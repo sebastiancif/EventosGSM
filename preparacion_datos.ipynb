{
 "cells": [
  {
   "cell_type": "markdown",
   "metadata": {},
   "source": [
    "# Preparación de datos.\n",
    "#### Autor: Sebastián Cifuentes Carrasco\n",
    "Teniendo una proyección de la tabla gsm_events, donde se extrajeron las columnas:\n",
    "\n",
    "| id | antenna_id | network_type | date | sim_serial_number |\n",
    "|----|-----|-----|-----|-----|\n",
    "\n",
    "\n",
    "Y las tabla de antenas de Santiago, etiquetadas con las comunas a las que pertenecen, y de carriers que otorgan los servicios de antena, haremos un preprocesamiento de datos para trabajar a futuro con estas tablas y dejarlas listas para visualización.\n",
    "\n",
    "\n"
   ]
  },
  {
   "cell_type": "code",
   "execution_count": 1,
   "metadata": {},
   "outputs": [],
   "source": [
    "import pandas as pd\n",
    "import math"
   ]
  },
  {
   "cell_type": "code",
   "execution_count": 2,
   "metadata": {},
   "outputs": [],
   "source": [
    "#Cargamos el dataset de gsm_events reducido a las columnas que nos importan.\n",
    "#Header del dataset: id, antenna_id, network_type, date, sim_serial_number\n",
    "gsm_events = pd.read_csv('gsm_events_mini.csv')\n",
    "\n",
    "#Cargamos las antenas de Santiago\n",
    "#Header de antenas: id, cid, lac, lat, lon, carrier_id, comuna\n",
    "at_stgo = pd.read_csv('antenas_santiago.csv')\n",
    "\n",
    "#Cargamos los carriers de las antenas\n",
    "#Header de carriers: id, name, mcc, mnc\n",
    "carriers = pd.read_csv('carriers.csv')\n"
   ]
  },
  {
   "cell_type": "markdown",
   "metadata": {},
   "source": [
    "## Chequeo de valores nulos\n",
    "Vamos a revisar si las tablas sobre las cuales trabajaremos contienen valores nulos dentro de sus registros. De ser así, habrá que ver un modo de reemplazar estos valores para que no existan problemas a futuro."
   ]
  },
  {
   "cell_type": "code",
   "execution_count": 3,
   "metadata": {},
   "outputs": [],
   "source": [
    "# pandasDataFrame -> None\n",
    "# Chequea si existen datos nulos dentro del dataframe entregado\n",
    "def checkfornulls(df):\n",
    "    #Identificamos las columnas donde hay valores null\n",
    "    null_cols = df.columns[df.isnull().any()]\n",
    "    #Si es vacío, entonces se informa.\n",
    "    if null_cols.empty:\n",
    "        print('No hay columnas con datos nulos')\n",
    "    else:\n",
    "        #En caso contrario, contamos los null totales por cada columna y describimos cada columna\n",
    "        print(\"Columnas con su respectiva cantidad de registros nulos\")\n",
    "        print(df[null_cols].isnull().sum())\n",
    "        print()\n",
    "        for col in null_cols:\n",
    "            print(df[col].describe())\n",
    "            print()"
   ]
  },
  {
   "cell_type": "code",
   "execution_count": 4,
   "metadata": {
    "scrolled": true
   },
   "outputs": [
    {
     "name": "stdout",
     "output_type": "stream",
     "text": [
      "<class 'pandas.core.frame.DataFrame'>\n",
      "RangeIndex: 19366931 entries, 0 to 19366930\n",
      "Data columns (total 5 columns):\n",
      "id                   int64\n",
      "antenna_id           float64\n",
      "network_type         int64\n",
      "date                 object\n",
      "sim_serial_number    object\n",
      "dtypes: float64(1), int64(2), object(2)\n",
      "memory usage: 738.8+ MB\n",
      "None\n"
     ]
    }
   ],
   "source": [
    "#Vemos la información de tipos de la tabla gsm_events\n",
    "print(gsm_events.info())\n",
    "#Notar que las fechas son strings. Hay que hacer una conversión a fechas entendibles por Python."
   ]
  },
  {
   "cell_type": "code",
   "execution_count": 5,
   "metadata": {},
   "outputs": [
    {
     "name": "stdout",
     "output_type": "stream",
     "text": [
      "Columnas con su respectiva cantidad de registros nulos\n",
      "antenna_id           293422\n",
      "sim_serial_number     39620\n",
      "dtype: int64\n",
      "\n",
      "count    1.907351e+07\n",
      "mean     1.908284e+04\n",
      "std      1.459131e+04\n",
      "min      1.000000e+00\n",
      "25%      6.041000e+03\n",
      "50%      1.856600e+04\n",
      "75%      2.723800e+04\n",
      "max      1.009200e+05\n",
      "Name: antenna_id, dtype: float64\n",
      "\n",
      "count                 19327311\n",
      "unique                     439\n",
      "top       89560900000040207779\n",
      "freq                   5767824\n",
      "Name: sim_serial_number, dtype: object\n",
      "\n"
     ]
    }
   ],
   "source": [
    "#Revisamos si hay valores null en gsm_events\n",
    "checkfornulls(gsm_events)"
   ]
  },
  {
   "cell_type": "code",
   "execution_count": 6,
   "metadata": {},
   "outputs": [
    {
     "name": "stdout",
     "output_type": "stream",
     "text": [
      "No hay columnas con datos nulos\n"
     ]
    }
   ],
   "source": [
    "#Como sabemos que hay valores nulos en la tabla, y son valores de identificación, nos deshacemos de las observaciones\n",
    "gsm_events.dropna(inplace = True)\n",
    "#Además, modificamos el tipo de antenna_id para que sea el mismo que en la tabla de antenas\n",
    "gsm_events['antenna_id'] = gsm_events.antenna_id.astype('int')\n",
    "#Y chequeamos nuevamente que la limpieza de nulos haya funcionado\n",
    "checkfornulls(gsm_events)"
   ]
  },
  {
   "cell_type": "code",
   "execution_count": 7,
   "metadata": {},
   "outputs": [
    {
     "name": "stdout",
     "output_type": "stream",
     "text": [
      "<class 'pandas.core.frame.DataFrame'>\n",
      "RangeIndex: 51487 entries, 0 to 51486\n",
      "Data columns (total 7 columns):\n",
      "id            51487 non-null int64\n",
      "cid           51487 non-null int64\n",
      "lac           51487 non-null int64\n",
      "lat           51487 non-null float64\n",
      "lon           51487 non-null float64\n",
      "carrier_id    51487 non-null int64\n",
      "comuna        51487 non-null object\n",
      "dtypes: float64(2), int64(4), object(1)\n",
      "memory usage: 2.7+ MB\n",
      "None\n"
     ]
    }
   ],
   "source": [
    "#Chequeo de tipos de la tabla de antenas de Santiago.\n",
    "print(at_stgo.info())"
   ]
  },
  {
   "cell_type": "code",
   "execution_count": 8,
   "metadata": {},
   "outputs": [
    {
     "name": "stdout",
     "output_type": "stream",
     "text": [
      "No hay columnas con datos nulos\n"
     ]
    }
   ],
   "source": [
    "#Revisamos si existen valores null en la tabla de antenas.\n",
    "checkfornulls(at_stgo)"
   ]
  },
  {
   "cell_type": "code",
   "execution_count": 9,
   "metadata": {},
   "outputs": [
    {
     "name": "stdout",
     "output_type": "stream",
     "text": [
      "<class 'pandas.core.frame.DataFrame'>\n",
      "RangeIndex: 54 entries, 0 to 53\n",
      "Data columns (total 4 columns):\n",
      "id      54 non-null int64\n",
      "name    54 non-null object\n",
      "mcc     54 non-null int64\n",
      "mnc     54 non-null int64\n",
      "dtypes: int64(3), object(1)\n",
      "memory usage: 1.8+ KB\n",
      "None\n"
     ]
    }
   ],
   "source": [
    "#Chequeo de tipos de la tabla carriers.\n",
    "print(carriers.info())"
   ]
  },
  {
   "cell_type": "code",
   "execution_count": 10,
   "metadata": {},
   "outputs": [
    {
     "name": "stdout",
     "output_type": "stream",
     "text": [
      "No hay columnas con datos nulos\n"
     ]
    }
   ],
   "source": [
    "#Revisamos si existen valores null en la tabla carriers.\n",
    "checkfornulls(carriers)"
   ]
  },
  {
   "cell_type": "markdown",
   "metadata": {},
   "source": [
    "## Preparando el join\n",
    "Ya teniendo la tabla de eventos limpia de valores nulos, así como las tablas de antenas de Santiago y carriers verificadas, los datos están listos para unirse y dejarlos dispuestos para su análisis. Así, la idea será generar una nueva tabla que contenga la información de cada evento con la información de su respectiva antena y nombre del carrier que otorga el servicio.\n",
    "\n",
    "## Primera tabla: antenas con sus carriers\n",
    "La idea es generar una tabla de antenas con el siguiente esquema:\n",
    "\n",
    "| id | cid | lac | lat | lon | carrier_id | comuna | carrier_name | mcc | mnc |\n",
    "|----|-----|-----|-----|-----|------------|--------|--------------|-----|-----|\n",
    "\n",
    "generando una tabla con igual cantidad de observaciones que la de antenas de Santiago (51487 filas).\n"
   ]
  },
  {
   "cell_type": "code",
   "execution_count": 11,
   "metadata": {},
   "outputs": [],
   "source": [
    "#Primero, renombramos la columna 'id' de la tabla carrier_id para poder hacer el join.\n",
    "carriers.rename(columns={'id':'carrier_id'}, inplace=True)\n",
    "#Y hacemos el join entre las antenas y carriers segun el carrier_id\n",
    "at_stgo_con_carrier = pd.merge(at_stgo, carriers, on='carrier_id', how='inner')\n",
    "#Renombramos la columna 'name' para que quede el esquema antes propuesto\n",
    "at_stgo_con_carrier.rename(columns = {'name': 'carrier_name'}, inplace = True)"
   ]
  },
  {
   "cell_type": "code",
   "execution_count": 12,
   "metadata": {},
   "outputs": [
    {
     "name": "stdout",
     "output_type": "stream",
     "text": [
      "<class 'pandas.core.frame.DataFrame'>\n",
      "Int64Index: 51487 entries, 0 to 51486\n",
      "Data columns (total 10 columns):\n",
      "id              51487 non-null int64\n",
      "cid             51487 non-null int64\n",
      "lac             51487 non-null int64\n",
      "lat             51487 non-null float64\n",
      "lon             51487 non-null float64\n",
      "carrier_id      51487 non-null int64\n",
      "comuna          51487 non-null object\n",
      "carrier_name    51487 non-null object\n",
      "mcc             51487 non-null int64\n",
      "mnc             51487 non-null int64\n",
      "dtypes: float64(2), int64(6), object(2)\n",
      "memory usage: 4.3+ MB\n",
      "None\n"
     ]
    }
   ],
   "source": [
    "print(at_stgo_con_carrier.info())"
   ]
  },
  {
   "cell_type": "markdown",
   "metadata": {},
   "source": [
    "Listo!\n",
    "Ahora falta hacer el join entre la tabla de gsm_events y la nueva tabla de antenas con carrier.\n",
    "## Segunda tabla: eventos con antenas con carriers\n",
    "En este caso el esquema que esperamos es el siguiente:\n",
    "\n",
    "| event_id | antenna_id | network_type | date | sim_serial_number | cid | lac | lat | lon | carrier_id | comuna | carrier_name | mcc | mnc |\n",
    "|-|-|-|-|-|-|-|-|-|-|-|-|-|-|\n",
    "\n",
    "Generando una tabla con 4626184 registros (calculado a partir de un INNER JOIN dentro de SQL).\n"
   ]
  },
  {
   "cell_type": "code",
   "execution_count": 13,
   "metadata": {},
   "outputs": [],
   "source": [
    "#Primero, cambiamos el nombre la columa 'id' de las antenas con carrier\n",
    "at_stgo_con_carrier.rename(columns = {'id': 'antenna_id'}, inplace = True)\n",
    "#Hacemos el join según antenna_id\n",
    "gsm_events_fulldata = pd.merge(gsm_events, at_stgo_con_carrier, on='antenna_id', how = 'inner')\n",
    "gsm_events_fulldata.rename(columns = {'id': 'event_id'}, inplace = True)"
   ]
  },
  {
   "cell_type": "code",
   "execution_count": 14,
   "metadata": {},
   "outputs": [
    {
     "name": "stdout",
     "output_type": "stream",
     "text": [
      "<class 'pandas.core.frame.DataFrame'>\n",
      "Int64Index: 4626184 entries, 0 to 4626183\n",
      "Data columns (total 14 columns):\n",
      "event_id             int64\n",
      "antenna_id           int64\n",
      "network_type         int64\n",
      "date                 object\n",
      "sim_serial_number    object\n",
      "cid                  int64\n",
      "lac                  int64\n",
      "lat                  float64\n",
      "lon                  float64\n",
      "carrier_id           int64\n",
      "comuna               object\n",
      "carrier_name         object\n",
      "mcc                  int64\n",
      "mnc                  int64\n",
      "dtypes: float64(2), int64(8), object(4)\n",
      "memory usage: 529.4+ MB\n",
      "None\n"
     ]
    }
   ],
   "source": [
    "print(gsm_events_fulldata.info())\n",
    "#Guardamos la tabla en csv para trabajarla\n",
    "gsm_events_fulldata.to_csv('gsm_events_fulldata.csv', index = False)"
   ]
  },
  {
   "cell_type": "markdown",
   "metadata": {},
   "source": [
    "Listo!\n",
    "Ya tenemos una tabla de 14 columnas con los eventos GSM de Santiago, georeferenciados y con toda la información relevante para su visualización."
   ]
  }
 ],
 "metadata": {
  "kernelspec": {
   "display_name": "Python 3",
   "language": "python",
   "name": "python3"
  },
  "language_info": {
   "codemirror_mode": {
    "name": "ipython",
    "version": 3
   },
   "file_extension": ".py",
   "mimetype": "text/x-python",
   "name": "python",
   "nbconvert_exporter": "python",
   "pygments_lexer": "ipython3",
   "version": "3.6.7"
  }
 },
 "nbformat": 4,
 "nbformat_minor": 2
}
