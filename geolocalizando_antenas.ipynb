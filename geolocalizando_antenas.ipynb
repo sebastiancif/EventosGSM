{
 "cells": [
  {
   "cell_type": "markdown",
   "metadata": {},
   "source": [
    "# Geolocalización de antenas en el Gran Santiago.\n",
    "#### Autor: Sebastián Cifuentes Carrasco\n",
    "\n",
    "Se tiene un dataset con información de antenas ubicadas en todo Chile. El esquema del dataset es el siguiente:\n",
    "\n",
    "\n",
    "| id | cid | lac | lat | lon | carrier_id |\n",
    "|----|-----|-----|-----|-----|------------|\n",
    "\n",
    "Las columnas *lat* y *lon* indican la posición geográfica de una antena dada. Lo que se hará será filtrar las antenas que pertenezcan a las comunas del Gran Santiago (pueden verse [aquí](https://es.wikipedia.org/wiki/Anexo:Comunas_de_Santiago_de_Chile#Ubicaci%C3%B3n_de_las_comunas)) a partir de su latitud y longitud para luego generar un subconjunto de antenas etiquetadas por comuna. Para esta tarea se cuenta con un [mapa](https://github.com/niclabs/maps/) de las comunas de Chile generado en formato TopoJSON y transformado al formato GeoJSON, el cual contiene polígonos georeferenciados que describen el área de las comunas antes dichas.\n",
    "\n",
    "Para esta tarea utilizaremos las librerías [*geopandas*](http://geopandas.org/) y [*shapely*](https://shapely.readthedocs.io/en/latest/) que facilitan el manejo de los objetos de los archivos de mapas.\n"
   ]
  },
  {
   "cell_type": "code",
   "execution_count": 1,
   "metadata": {},
   "outputs": [],
   "source": [
    "import geopandas as gpd\n",
    "import pandas as pd\n",
    "import math\n",
    "from shapely.geometry import Point\n"
   ]
  },
  {
   "cell_type": "markdown",
   "metadata": {},
   "source": [
    "## Geopandas dataframe\n",
    "Se utiliza la librería geopandas para abrir el mapa de comunas de Chile, ya que transforma los datos dentro del archivo JSON directamente a polígonos de shapely, como puede verse en la descripción posterior del dataset."
   ]
  },
  {
   "cell_type": "code",
   "execution_count": 2,
   "metadata": {},
   "outputs": [],
   "source": [
    "#Cargamos todas las comunas y los datos de las antenas.\n",
    "comunas = gpd.read_file('comunas_chile.json')\n",
    "antenas = pd.read_csv('antennas.csv')"
   ]
  },
  {
   "cell_type": "code",
   "execution_count": 3,
   "metadata": {
    "scrolled": true
   },
   "outputs": [
    {
     "name": "stdout",
     "output_type": "stream",
     "text": [
      "Comunas:\n",
      "      NOM_COM                  REGION     PROV  CODIGO  \\\n",
      "0     Ercilla  Región de La Araucanía  Malleco    9204   \n",
      "1   Lonquimay  Región de La Araucanía  Malleco    9205   \n",
      "2  Los Sauces  Región de La Araucanía  Malleco    9206   \n",
      "3      Lumaco  Región de La Araucanía  Malleco    9207   \n",
      "4       Purén  Región de La Araucanía  Malleco    9208   \n",
      "\n",
      "                                            geometry  \n",
      "0  POLYGON ((-71.98421280648006 -38.1768417919306...  \n",
      "1  POLYGON ((-71.04438731634175 -38.1229627952722...  \n",
      "2  POLYGON ((-72.57214016789078 -38.0229018014781...  \n",
      "3  POLYGON ((-72.78671219760272 -38.1229627952722...  \n",
      "4  POLYGON ((-73.01415854909737 -37.8574163117418...  \n",
      "\n",
      "Antenas:\n",
      "   id         cid         lac        lat        lon  carrier_id\n",
      "0  27  2147483647  2147483647        NaN        NaN        7301\n",
      "1  43          -1          -1        NaN        NaN        7301\n",
      "2  82  2147483647  2147483647        NaN        NaN        7302\n",
      "3  84          -1          -1        NaN        NaN        7302\n",
      "4   2     1223713        1330 -33.471877 -70.581209        7302\n"
     ]
    }
   ],
   "source": [
    "print(\"Comunas:\")\n",
    "print(f'{comunas.head()}\\n')\n",
    "print(\"Antenas:\")\n",
    "print(antenas.head())"
   ]
  },
  {
   "cell_type": "code",
   "execution_count": 4,
   "metadata": {},
   "outputs": [
    {
     "data": {
      "text/html": [
       "<div>\n",
       "<style scoped>\n",
       "    .dataframe tbody tr th:only-of-type {\n",
       "        vertical-align: middle;\n",
       "    }\n",
       "\n",
       "    .dataframe tbody tr th {\n",
       "        vertical-align: top;\n",
       "    }\n",
       "\n",
       "    .dataframe thead th {\n",
       "        text-align: right;\n",
       "    }\n",
       "</style>\n",
       "<table border=\"1\" class=\"dataframe\">\n",
       "  <thead>\n",
       "    <tr style=\"text-align: right;\">\n",
       "      <th></th>\n",
       "      <th>NOM_COM</th>\n",
       "      <th>REGION</th>\n",
       "      <th>PROV</th>\n",
       "      <th>CODIGO</th>\n",
       "      <th>geometry</th>\n",
       "    </tr>\n",
       "  </thead>\n",
       "  <tbody>\n",
       "    <tr>\n",
       "      <th>177</th>\n",
       "      <td>Independencia</td>\n",
       "      <td>Región Metropolitana de Santiago</td>\n",
       "      <td>Santiago</td>\n",
       "      <td>13108</td>\n",
       "      <td>POLYGON ((-70.653866222266 -33.43164158623397,...</td>\n",
       "    </tr>\n",
       "    <tr>\n",
       "      <th>178</th>\n",
       "      <td>La Florida</td>\n",
       "      <td>Región Metropolitana de Santiago</td>\n",
       "      <td>Santiago</td>\n",
       "      <td>13110</td>\n",
       "      <td>POLYGON ((-70.43929419255406 -33.4932175824149...</td>\n",
       "    </tr>\n",
       "    <tr>\n",
       "      <th>179</th>\n",
       "      <td>Lo Barnechea</td>\n",
       "      <td>Región Metropolitana de Santiago</td>\n",
       "      <td>Santiago</td>\n",
       "      <td>13115</td>\n",
       "      <td>POLYGON ((-70.51654012325037 -33.3739140898143...</td>\n",
       "    </tr>\n",
       "    <tr>\n",
       "      <th>180</th>\n",
       "      <td>Lo Espejo</td>\n",
       "      <td>Región Metropolitana de Santiago</td>\n",
       "      <td>Santiago</td>\n",
       "      <td>13116</td>\n",
       "      <td>POLYGON ((-70.67103198464297 -33.5124600812215...</td>\n",
       "    </tr>\n",
       "    <tr>\n",
       "      <th>181</th>\n",
       "      <td>Lo Prado</td>\n",
       "      <td>Región Metropolitana de Santiago</td>\n",
       "      <td>Santiago</td>\n",
       "      <td>13117</td>\n",
       "      <td>POLYGON ((-70.72682071236807 -33.4547325848018...</td>\n",
       "    </tr>\n",
       "  </tbody>\n",
       "</table>\n",
       "</div>"
      ],
      "text/plain": [
       "           NOM_COM                            REGION      PROV  CODIGO  \\\n",
       "177  Independencia  Región Metropolitana de Santiago  Santiago   13108   \n",
       "178     La Florida  Región Metropolitana de Santiago  Santiago   13110   \n",
       "179   Lo Barnechea  Región Metropolitana de Santiago  Santiago   13115   \n",
       "180      Lo Espejo  Región Metropolitana de Santiago  Santiago   13116   \n",
       "181       Lo Prado  Región Metropolitana de Santiago  Santiago   13117   \n",
       "\n",
       "                                              geometry  \n",
       "177  POLYGON ((-70.653866222266 -33.43164158623397,...  \n",
       "178  POLYGON ((-70.43929419255406 -33.4932175824149...  \n",
       "179  POLYGON ((-70.51654012325037 -33.3739140898143...  \n",
       "180  POLYGON ((-70.67103198464297 -33.5124600812215...  \n",
       "181  POLYGON ((-70.72682071236807 -33.4547325848018...  "
      ]
     },
     "execution_count": 4,
     "metadata": {},
     "output_type": "execute_result"
    }
   ],
   "source": [
    "#Extraemos las comunas del Gran Santiago que nos interesan.\n",
    "#Todas las comunas de la ciudad de Santiago + Puente Alto, San Bdo. y  Padre Hurtado.\n",
    "com_stgo = list(range(13101,13133)) + [13201, 13401, 13604]\n",
    "#Extraemos los polígonos del Gran Santiago\n",
    "stgo = comunas[comunas['CODIGO'].isin(com_stgo)]\n",
    "#stgo.to_file('comunas_santiago.json', driver = 'GeoJSON')\n",
    "stgo.head()\n"
   ]
  },
  {
   "cell_type": "markdown",
   "metadata": {},
   "source": [
    "## Usando shapely para geolocalizar.\n",
    "\n",
    "Para geolocalizar un punto dado, shapely considera un punto dado como Point(latitud,longitud). De otra forma, todo punto que se suponga estar dentro de un polígono dado no pertenecerá a éste. Así, utilizamos el método *contains* la cual dado un polígono y un punto, retorna si éste último está o no dentro de su contorno. De esta manera, iterando sobre cada antena, podemos ubicar a esta dentro de alguno de los polígonos de Santiago. De otra forma, se descarta el dato."
   ]
  },
  {
   "cell_type": "code",
   "execution_count": 5,
   "metadata": {},
   "outputs": [],
   "source": [
    "#Ahora geolocalizamos aquellas antenas que estén en Santiago.\n",
    "\n",
    "antenas_stgo = []\n",
    "\n",
    "#Iteramos sobre las antenas\n",
    "for antrow in antenas.itertuples():\n",
    "    if math.isnan(antrow[4]) or math.isnan(antrow[5]):\n",
    "        continue\n",
    "    else:\n",
    "        #Generamos un punto lon/lat que identifica a una antena\n",
    "        p = Point(antrow[5], antrow[4])\n",
    "        #Iteramos sobre los polígonos de santiago\n",
    "        for stgorow in stgo.itertuples():\n",
    "            #La antena está en una comuna de Santiago?\n",
    "            if stgorow[5].contains(p):\n",
    "                antenas_stgo.append((antrow[1],\n",
    "                                     antrow[2],\n",
    "                                     antrow[3],\n",
    "                                     antrow[4],\n",
    "                                     antrow[5],\n",
    "                                     antrow[6],\n",
    "                                     stgorow[1]))\n",
    "                break #Salimos pues ya localizamos la antena en alguna comuna y no es necesario chequear el resto"
   ]
  },
  {
   "cell_type": "code",
   "execution_count": 6,
   "metadata": {
    "scrolled": true
   },
   "outputs": [
    {
     "name": "stdout",
     "output_type": "stream",
     "text": [
      "   id       cid    lac        lat        lon  carrier_id       comuna\n",
      "0   2   1223713   1330 -33.471877 -70.581209        7302        Ñuñoa\n",
      "1   4   1196265  52025 -33.496543 -70.746325        7302        Maipú\n",
      "2   6  87053737  13510 -33.533728 -70.663414        7301  La Cisterna\n",
      "3   8  87082065  13510 -33.537654 -70.663381        7301  La Cisterna\n",
      "4   9  86991430  13622 -33.536916 -70.590676        7301   La Florida\n",
      "(51487, 7)\n"
     ]
    }
   ],
   "source": [
    "col_antenas_stgo = ['id', 'cid', 'lac', 'lat', 'lon', 'carrier_id', 'comuna']\n",
    "df_antenas_stgo = pd.DataFrame(antenas_stgo, columns = col_antenas_stgo)\n",
    "#df_antenas_stgo.to_csv('antenas_santiago.csv', index = False)\n",
    "print(df_antenas_stgo.head())\n",
    "print(df_antenas_stgo.shape)\n"
   ]
  },
  {
   "cell_type": "markdown",
   "metadata": {},
   "source": [
    "## Antenas ubicadas!\n",
    "\n",
    "Con las antenas ya ubicadas por comuna, podemos hacer un análisis simple sobre su distribución en Santiago, viendo la cantidad total de antenas que cada comuna contiene."
   ]
  },
  {
   "cell_type": "code",
   "execution_count": 7,
   "metadata": {},
   "outputs": [
    {
     "data": {
      "text/plain": [
       "comuna\n",
       "Cerrillos               826\n",
       "Cerro Navia             260\n",
       "Conchalí                575\n",
       "El Bosque               517\n",
       "Estación Central       1495\n",
       "Huechuraba              843\n",
       "Independencia           689\n",
       "La Cisterna             739\n",
       "La Florida             2659\n",
       "La Granja               472\n",
       "La Pintana              536\n",
       "La Reina               1085\n",
       "Las Condes             4401\n",
       "Lo Barnechea            827\n",
       "Lo Espejo               400\n",
       "Lo Prado                405\n",
       "Macul                  1601\n",
       "Maipú                  2750\n",
       "Padre Hurtado           300\n",
       "Pedro Aguirre Cerda     459\n",
       "Peñalolén              1304\n",
       "Providencia            4525\n",
       "Pudahuel               1390\n",
       "Puente Alto            1955\n",
       "Quilicura               963\n",
       "Quinta Normal           566\n",
       "Recoleta               1257\n",
       "Renca                   633\n",
       "San Bernardo           1543\n",
       "San Joaquín             833\n",
       "San Miguel              949\n",
       "San Ramón               312\n",
       "Santiago               8989\n",
       "Vitacura               1583\n",
       "Ñuñoa                  2846\n",
       "dtype: int64"
      ]
     },
     "execution_count": 7,
     "metadata": {},
     "output_type": "execute_result"
    }
   ],
   "source": [
    "#Vamos a hacer un análisis simple sobre las antenas, para ver su distribución por comunas\n",
    "df_antenas_stgo.groupby(['comuna']).size()"
   ]
  }
 ],
 "metadata": {
  "kernelspec": {
   "display_name": "Python 3",
   "language": "python",
   "name": "python3"
  },
  "language_info": {
   "codemirror_mode": {
    "name": "ipython",
    "version": 3
   },
   "file_extension": ".py",
   "mimetype": "text/x-python",
   "name": "python",
   "nbconvert_exporter": "python",
   "pygments_lexer": "ipython3",
   "version": "3.6.7"
  }
 },
 "nbformat": 4,
 "nbformat_minor": 2
}
